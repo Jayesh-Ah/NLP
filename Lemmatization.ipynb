{
 "cells": [
  {
   "cell_type": "markdown",
   "metadata": {},
   "source": [
    "Lemmatization technique is like stemming. The output we will get after lemmatization is called ‘lemma’, which is a root word rather than root stem, the output of stemming. After lemmatization, we will be getting a valid word that means the same thing.\n",
    "\n",
    "NLTK provides WordNetLemmatizer class which is a thin wrapper around the wordnet corpus. This class uses morphy() function to the WordNet CorpusReader class to find a lemma."
   ]
  },
  {
   "cell_type": "code",
   "execution_count": 3,
   "metadata": {},
   "outputs": [],
   "source": [
    "words=[\"go\",\"goes\",\"going\",\"eating\",\"eats\",\"eaten\",\"writing\",\"writes\",\"programming\",\"programs\",\"history\",\"finally\",\"finalized\",\"fairly\",\"sportingly\",\"congratulations\"]"
   ]
  },
  {
   "cell_type": "markdown",
   "metadata": {},
   "source": [
    "#### WordNet Lemmatizer"
   ]
  },
  {
   "cell_type": "code",
   "execution_count": 10,
   "metadata": {},
   "outputs": [
    {
     "name": "stderr",
     "output_type": "stream",
     "text": [
      "[nltk_data] Downloading package wordnet to C:\\Users\\JAYESH\n",
      "[nltk_data]     AHIRE\\AppData\\Roaming\\nltk_data...\n"
     ]
    },
    {
     "data": {
      "text/plain": [
       "True"
      ]
     },
     "execution_count": 10,
     "metadata": {},
     "output_type": "execute_result"
    }
   ],
   "source": [
    "import nltk\n",
    "nltk.download('wordnet')"
   ]
  },
  {
   "cell_type": "code",
   "execution_count": 20,
   "metadata": {},
   "outputs": [
    {
     "data": {
      "text/plain": [
       "'\\nPOS- Noun-n             Available options for POS\\nverb-v\\nadjective-a\\nadverb-r\\nsatellite adjectives-s\\n'"
      ]
     },
     "execution_count": 20,
     "metadata": {},
     "output_type": "execute_result"
    }
   ],
   "source": [
    "'''\n",
    "POS- Noun-n             Available options for POS\n",
    "verb-v\n",
    "adjective-a\n",
    "adverb-r\n",
    "satellite adjectives-s\n",
    "'''"
   ]
  },
  {
   "cell_type": "code",
   "execution_count": 21,
   "metadata": {},
   "outputs": [],
   "source": [
    "from nltk.stem import WordNetLemmatizer"
   ]
  },
  {
   "cell_type": "code",
   "execution_count": 22,
   "metadata": {},
   "outputs": [],
   "source": [
    "lemmatizer = WordNetLemmatizer()"
   ]
  },
  {
   "cell_type": "code",
   "execution_count": 25,
   "metadata": {},
   "outputs": [
    {
     "name": "stdout",
     "output_type": "stream",
     "text": [
      "go ---> go\n",
      "goes ---> go\n",
      "going ---> go\n",
      "eating ---> eat\n",
      "eats ---> eat\n",
      "eaten ---> eat\n",
      "writing ---> write\n",
      "writes ---> write\n",
      "programming ---> program\n",
      "programs ---> program\n",
      "history ---> history\n",
      "finally ---> finally\n",
      "finalized ---> finalize\n",
      "fairly ---> fairly\n",
      "sportingly ---> sportingly\n",
      "congratulations ---> congratulations\n"
     ]
    }
   ],
   "source": [
    "for word in words:\n",
    "    print(word+\" ---> \"+ lemmatizer.lemmatize(word, pos='v'))           #Verb"
   ]
  },
  {
   "cell_type": "code",
   "execution_count": 26,
   "metadata": {},
   "outputs": [
    {
     "name": "stdout",
     "output_type": "stream",
     "text": [
      "go ---> go\n",
      "goes ---> go\n",
      "going ---> going\n",
      "eating ---> eating\n",
      "eats ---> eats\n",
      "eaten ---> eaten\n",
      "writing ---> writing\n",
      "writes ---> writes\n",
      "programming ---> programming\n",
      "programs ---> program\n",
      "history ---> history\n",
      "finally ---> finally\n",
      "finalized ---> finalized\n",
      "fairly ---> fairly\n",
      "sportingly ---> sportingly\n",
      "congratulations ---> congratulation\n"
     ]
    }
   ],
   "source": [
    "for word in words:\n",
    "    print(word+\" ---> \"+lemmatizer.lemmatize(word, pos=\"n\"))        #Noun"
   ]
  },
  {
   "cell_type": "code",
   "execution_count": null,
   "metadata": {},
   "outputs": [],
   "source": []
  }
 ],
 "metadata": {
  "kernelspec": {
   "display_name": "Python 3",
   "language": "python",
   "name": "python3"
  },
  "language_info": {
   "codemirror_mode": {
    "name": "ipython",
    "version": 3
   },
   "file_extension": ".py",
   "mimetype": "text/x-python",
   "name": "python",
   "nbconvert_exporter": "python",
   "pygments_lexer": "ipython3",
   "version": "3.12.0"
  }
 },
 "nbformat": 4,
 "nbformat_minor": 2
}
